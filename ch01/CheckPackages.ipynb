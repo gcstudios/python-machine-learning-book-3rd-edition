{
 "cells": [
  {
   "cell_type": "code",
   "execution_count": null,
   "id": "427f6049-86ef-4bd0-ad30-23bfe7bd91c4",
   "metadata": {},
   "outputs": [
    {
     "name": "stdout",
     "output_type": "stream",
     "text": [
      "import _frozen_importlib # frozen\n",
      "import _imp # builtin\n",
      "import '_thread' # <class '_frozen_importlib.BuiltinImporter'>\n",
      "import '_warnings' # <class '_frozen_importlib.BuiltinImporter'>\n",
      "import '_weakref' # <class '_frozen_importlib.BuiltinImporter'>\n",
      "import '_io' # <class '_frozen_importlib.BuiltinImporter'>\n",
      "import 'marshal' # <class '_frozen_importlib.BuiltinImporter'>\n",
      "import 'posix' # <class '_frozen_importlib.BuiltinImporter'>\n",
      "import '_frozen_importlib_external' # <class '_frozen_importlib.FrozenImporter'>\n",
      "import _thread # previously loaded ('_thread')\n",
      "import '_thread' # <class '_frozen_importlib.BuiltinImporter'>\n",
      "import _weakref # previously loaded ('_weakref')\n",
      "import '_weakref' # <class '_frozen_importlib.BuiltinImporter'>\n",
      "# installing zipimport hook\n",
      "import 'time' # <class '_frozen_importlib.BuiltinImporter'>\n",
      "import 'zipimport' # <class '_frozen_importlib.FrozenImporter'>\n",
      "# installed zipimport hook\n",
      "# /Users/jon/anaconda3/envs/python38/lib/python3.8/encodings/__pycache__/__init__.cpython-38.pyc matches /Users/jon/anaconda3/envs/python38/lib/python3.8/encodings/__init__.py\n",
      "# code object from '/Users/jon/anaconda3/envs/python38/lib/python3.8/encodings/__pycache__/__init__.cpython-38.pyc'\n",
      "# /Users/jon/anaconda3/envs/python38/lib/python3.8/__pycache__/codecs.cpython-38.pyc matches /Users/jon/anaconda3/envs/python38/lib/python3.8/codecs.py\n",
      "# code object from '/Users/jon/anaconda3/envs/python38/lib/python3.8/__pycache__/codecs.cpython-38.pyc'\n",
      "import '_codecs' # <class '_frozen_importlib.BuiltinImporter'>\n",
      "import 'codecs' # <_frozen_importlib_external.SourceFileLoader object at 0x7fbbf0049250>\n",
      "# /Users/jon/anaconda3/envs/python38/lib/python3.8/encodings/__pycache__/aliases.cpython-38.pyc matches /Users/jon/anaconda3/envs/python38/lib/python3.8/encodings/aliases.py\n",
      "# code object from '/Users/jon/anaconda3/envs/python38/lib/python3.8/encodings/__pycache__/aliases.cpython-38.pyc'\n",
      "import 'encodings.aliases' # <_frozen_importlib_external.SourceFileLoader object at 0x7fbbf005c820>\n",
      "import 'encodings' # <_frozen_importlib_external.SourceFileLoader object at 0x7fbc000c0df0>\n",
      "# /Users/jon/anaconda3/envs/python38/lib/python3.8/encodings/__pycache__/utf_8.cpython-38.pyc matches /Users/jon/anaconda3/envs/python38/lib/python3.8/encodings/utf_8.py\n",
      "# code object from '/Users/jon/anaconda3/envs/python38/lib/python3.8/encodings/__pycache__/utf_8.cpython-38.pyc'\n",
      "import 'encodings.utf_8' # <_frozen_importlib_external.SourceFileLoader object at 0x7fbbf0049e20>\n",
      "import '_signal' # <class '_frozen_importlib.BuiltinImporter'>\n",
      "# /Users/jon/anaconda3/envs/python38/lib/python3.8/encodings/__pycache__/latin_1.cpython-38.pyc matches /Users/jon/anaconda3/envs/python38/lib/python3.8/encodings/latin_1.py\n",
      "# code object from '/Users/jon/anaconda3/envs/python38/lib/python3.8/encodings/__pycache__/latin_1.cpython-38.pyc'\n",
      "import 'encodings.latin_1' # <_frozen_importlib_external.SourceFileLoader object at 0x7fbbf005c910>\n",
      "# /Users/jon/anaconda3/envs/python38/lib/python3.8/__pycache__/io.cpython-38.pyc matches /Users/jon/anaconda3/envs/python38/lib/python3.8/io.py\n",
      "# code object from '/Users/jon/anaconda3/envs/python38/lib/python3.8/__pycache__/io.cpython-38.pyc'\n",
      "# /Users/jon/anaconda3/envs/python38/lib/python3.8/__pycache__/abc.cpython-38.pyc matches /Users/jon/anaconda3/envs/python38/lib/python3.8/abc.py\n",
      "# code object from '/Users/jon/anaconda3/envs/python38/lib/python3.8/__pycache__/abc.cpython-38.pyc'\n",
      "import '_abc' # <class '_frozen_importlib.BuiltinImporter'>\n",
      "import 'abc' # <_frozen_importlib_external.SourceFileLoader object at 0x7fbbf005cd90>\n",
      "import 'io' # <_frozen_importlib_external.SourceFileLoader object at 0x7fbbf005cac0>\n",
      "# /Users/jon/anaconda3/envs/python38/lib/python3.8/__pycache__/site.cpython-38.pyc matches /Users/jon/anaconda3/envs/python38/lib/python3.8/site.py\n",
      "# code object from '/Users/jon/anaconda3/envs/python38/lib/python3.8/__pycache__/site.cpython-38.pyc'\n",
      "# /Users/jon/anaconda3/envs/python38/lib/python3.8/__pycache__/os.cpython-38.pyc matches /Users/jon/anaconda3/envs/python38/lib/python3.8/os.py\n",
      "# code object from '/Users/jon/anaconda3/envs/python38/lib/python3.8/__pycache__/os.cpython-38.pyc'\n",
      "# /Users/jon/anaconda3/envs/python38/lib/python3.8/__pycache__/stat.cpython-38.pyc matches /Users/jon/anaconda3/envs/python38/lib/python3.8/stat.py\n",
      "# code object from '/Users/jon/anaconda3/envs/python38/lib/python3.8/__pycache__/stat.cpython-38.pyc'\n",
      "import '_stat' # <class '_frozen_importlib.BuiltinImporter'>\n",
      "import 'stat' # <_frozen_importlib_external.SourceFileLoader object at 0x7fbc00119700>\n",
      "# /Users/jon/anaconda3/envs/python38/lib/python3.8/__pycache__/_collections_abc.cpython-38.pyc matches /Users/jon/anaconda3/envs/python38/lib/python3.8/_collections_abc.py\n",
      "# code object from '/Users/jon/anaconda3/envs/python38/lib/python3.8/__pycache__/_collections_abc.cpython-38.pyc'\n",
      "import '_collections_abc' # <_frozen_importlib_external.SourceFileLoader object at 0x7fbc00119790>\n",
      "# /Users/jon/anaconda3/envs/python38/lib/python3.8/__pycache__/posixpath.cpython-38.pyc matches /Users/jon/anaconda3/envs/python38/lib/python3.8/posixpath.py\n",
      "# code object from '/Users/jon/anaconda3/envs/python38/lib/python3.8/__pycache__/posixpath.cpython-38.pyc'\n",
      "# /Users/jon/anaconda3/envs/python38/lib/python3.8/__pycache__/genericpath.cpython-38.pyc matches /Users/jon/anaconda3/envs/python38/lib/python3.8/genericpath.py\n",
      "# code object from '/Users/jon/anaconda3/envs/python38/lib/python3.8/__pycache__/genericpath.cpython-38.pyc'\n",
      "import 'genericpath' # <_frozen_importlib_external.SourceFileLoader object at 0x7fbc001410d0>\n",
      "import 'posixpath' # <_frozen_importlib_external.SourceFileLoader object at 0x7fbc00119820>\n",
      "import 'os' # <_frozen_importlib_external.SourceFileLoader object at 0x7fbbf0076e20>\n",
      "# /Users/jon/anaconda3/envs/python38/lib/python3.8/__pycache__/_sitebuiltins.cpython-38.pyc matches /Users/jon/anaconda3/envs/python38/lib/python3.8/_sitebuiltins.py\n",
      "# code object from '/Users/jon/anaconda3/envs/python38/lib/python3.8/__pycache__/_sitebuiltins.cpython-38.pyc'\n",
      "import '_sitebuiltins' # <_frozen_importlib_external.SourceFileLoader object at 0x7fbc00111700>\n",
      "# /Users/jon/anaconda3/envs/python38/lib/python3.8/__pycache__/_bootlocale.cpython-38.pyc matches /Users/jon/anaconda3/envs/python38/lib/python3.8/_bootlocale.py\n",
      "# code object from '/Users/jon/anaconda3/envs/python38/lib/python3.8/__pycache__/_bootlocale.cpython-38.pyc'\n",
      "import '_locale' # <class '_frozen_importlib.BuiltinImporter'>\n",
      "import '_bootlocale' # <_frozen_importlib_external.SourceFileLoader object at 0x7fbc00119370>\n",
      "# /Users/jon/anaconda3/envs/python38/lib/python3.8/__pycache__/types.cpython-38.pyc matches /Users/jon/anaconda3/envs/python38/lib/python3.8/types.py\n",
      "# code object from '/Users/jon/anaconda3/envs/python38/lib/python3.8/__pycache__/types.cpython-38.pyc'\n",
      "import 'types' # <_frozen_importlib_external.SourceFileLoader object at 0x7fbc001417c0>\n",
      "# /Users/jon/anaconda3/envs/python38/lib/python3.8/importlib/__pycache__/__init__.cpython-38.pyc matches /Users/jon/anaconda3/envs/python38/lib/python3.8/importlib/__init__.py\n",
      "# code object from '/Users/jon/anaconda3/envs/python38/lib/python3.8/importlib/__pycache__/__init__.cpython-38.pyc'\n",
      "# /Users/jon/anaconda3/envs/python38/lib/python3.8/__pycache__/warnings.cpython-38.pyc matches /Users/jon/anaconda3/envs/python38/lib/python3.8/warnings.py\n",
      "# code object from '/Users/jon/anaconda3/envs/python38/lib/python3.8/__pycache__/warnings.cpython-38.pyc'\n",
      "import 'warnings' # <_frozen_importlib_external.SourceFileLoader object at 0x7fbc00191370>\n",
      "import 'importlib' # <_frozen_importlib_external.SourceFileLoader object at 0x7fbc00141d00>\n",
      "# /Users/jon/anaconda3/envs/python38/lib/python3.8/importlib/__pycache__/util.cpython-38.pyc matches /Users/jon/anaconda3/envs/python38/lib/python3.8/importlib/util.py\n",
      "# code object from '/Users/jon/anaconda3/envs/python38/lib/python3.8/importlib/__pycache__/util.cpython-38.pyc'\n",
      "# /Users/jon/anaconda3/envs/python38/lib/python3.8/importlib/__pycache__/abc.cpython-38.pyc matches /Users/jon/anaconda3/envs/python38/lib/python3.8/importlib/abc.py\n",
      "# code object from '/Users/jon/anaconda3/envs/python38/lib/python3.8/importlib/__pycache__/abc.cpython-38.pyc'\n",
      "# /Users/jon/anaconda3/envs/python38/lib/python3.8/importlib/__pycache__/machinery.cpython-38.pyc matches /Users/jon/anaconda3/envs/python38/lib/python3.8/importlib/machinery.py\n",
      "# code object from '/Users/jon/anaconda3/envs/python38/lib/python3.8/importlib/__pycache__/machinery.cpython-38.pyc'\n",
      "import 'importlib.machinery' # <_frozen_importlib_external.SourceFileLoader object at 0x7fbc001a4bb0>\n",
      "import 'importlib.abc' # <_frozen_importlib_external.SourceFileLoader object at 0x7fbc00191f10>\n",
      "# /Users/jon/anaconda3/envs/python38/lib/python3.8/__pycache__/contextlib.cpython-38.pyc matches /Users/jon/anaconda3/envs/python38/lib/python3.8/contextlib.py\n",
      "# code object from '/Users/jon/anaconda3/envs/python38/lib/python3.8/__pycache__/contextlib.cpython-38.pyc'\n",
      "# /Users/jon/anaconda3/envs/python38/lib/python3.8/collections/__pycache__/__init__.cpython-38.pyc matches /Users/jon/anaconda3/envs/python38/lib/python3.8/collections/__init__.py\n",
      "# code object from '/Users/jon/anaconda3/envs/python38/lib/python3.8/collections/__pycache__/__init__.cpython-38.pyc'\n",
      "# /Users/jon/anaconda3/envs/python38/lib/python3.8/__pycache__/operator.cpython-38.pyc matches /Users/jon/anaconda3/envs/python38/lib/python3.8/operator.py\n",
      "# code object from '/Users/jon/anaconda3/envs/python38/lib/python3.8/__pycache__/operator.cpython-38.pyc'\n",
      "import '_operator' # <class '_frozen_importlib.BuiltinImporter'>\n",
      "import 'operator' # <_frozen_importlib_external.SourceFileLoader object at 0x7fbc001dc100>\n",
      "# /Users/jon/anaconda3/envs/python38/lib/python3.8/__pycache__/keyword.cpython-38.pyc matches /Users/jon/anaconda3/envs/python38/lib/python3.8/keyword.py\n",
      "# code object from '/Users/jon/anaconda3/envs/python38/lib/python3.8/__pycache__/keyword.cpython-38.pyc'\n",
      "import 'keyword' # <_frozen_importlib_external.SourceFileLoader object at 0x7fbc001dc1f0>\n",
      "# /Users/jon/anaconda3/envs/python38/lib/python3.8/__pycache__/heapq.cpython-38.pyc matches /Users/jon/anaconda3/envs/python38/lib/python3.8/heapq.py\n",
      "# code object from '/Users/jon/anaconda3/envs/python38/lib/python3.8/__pycache__/heapq.cpython-38.pyc'\n",
      "# extension module '_heapq' loaded from '/Users/jon/anaconda3/envs/python38/lib/python3.8/lib-dynload/_heapq.cpython-38-darwin.so'\n",
      "# extension module '_heapq' executed from '/Users/jon/anaconda3/envs/python38/lib/python3.8/lib-dynload/_heapq.cpython-38-darwin.so'\n",
      "import '_heapq' # <_frozen_importlib_external.ExtensionFileLoader object at 0x7fbc001dcb20>\n",
      "import 'heapq' # <_frozen_importlib_external.SourceFileLoader object at 0x7fbc001dc370>\n",
      "import 'itertools' # <class '_frozen_importlib.BuiltinImporter'>\n",
      "# /Users/jon/anaconda3/envs/python38/lib/python3.8/__pycache__/reprlib.cpython-38.pyc matches /Users/jon/anaconda3/envs/python38/lib/python3.8/reprlib.py\n",
      "# code object from '/Users/jon/anaconda3/envs/python38/lib/python3.8/__pycache__/reprlib.cpython-38.pyc'\n",
      "import 'reprlib' # <_frozen_importlib_external.SourceFileLoader object at 0x7fbc001dc700>\n",
      "import '_collections' # <class '_frozen_importlib.BuiltinImporter'>\n",
      "import 'collections' # <_frozen_importlib_external.SourceFileLoader object at 0x7fbc001bb2e0>\n",
      "# /Users/jon/anaconda3/envs/python38/lib/python3.8/__pycache__/functools.cpython-38.pyc matches /Users/jon/anaconda3/envs/python38/lib/python3.8/functools.py\n",
      "# code object from '/Users/jon/anaconda3/envs/python38/lib/python3.8/__pycache__/functools.cpython-38.pyc'\n",
      "import '_functools' # <class '_frozen_importlib.BuiltinImporter'>\n",
      "import 'functools' # <_frozen_importlib_external.SourceFileLoader object at 0x7fbc001bb490>\n",
      "import 'contextlib' # <_frozen_importlib_external.SourceFileLoader object at 0x7fbc001a45b0>\n",
      "import 'importlib.util' # <_frozen_importlib_external.SourceFileLoader object at 0x7fbc001911c0>\n",
      "# possible namespace for /Users/jon/anaconda3/envs/python38/lib/python3.8/site-packages/google\n",
      "# possible namespace for /Users/jon/anaconda3/envs/python38/lib/python3.8/site-packages/google\n",
      "# destroy google\n",
      "# possible namespace for /Users/jon/anaconda3/envs/python38/lib/python3.8/site-packages/google\n",
      "# destroy google\n",
      "# possible namespace for /Users/jon/anaconda3/envs/python38/lib/python3.8/site-packages/google\n",
      "# destroy google\n",
      "# possible namespace for /Users/jon/anaconda3/envs/python38/lib/python3.8/site-packages/google/cloud\n",
      "# possible namespace for /Users/jon/anaconda3/envs/python38/lib/python3.8/site-packages/google\n",
      "# destroy google\n",
      "# possible namespace for /Users/jon/anaconda3/envs/python38/lib/python3.8/site-packages/google\n",
      "# destroy google\n",
      "# possible namespace for /Users/jon/anaconda3/envs/python38/lib/python3.8/site-packages/google/cloud\n",
      "# destroy google.cloud\n",
      "# possible namespace for /Users/jon/anaconda3/envs/python38/lib/python3.8/site-packages/google\n",
      "# destroy google\n",
      "# possible namespace for /Users/jon/anaconda3/envs/python38/lib/python3.8/site-packages/google\n",
      "# destroy google\n",
      "# possible namespace for /Users/jon/anaconda3/envs/python38/lib/python3.8/site-packages/google\n",
      "# destroy google\n",
      "# possible namespace for /Users/jon/anaconda3/envs/python38/lib/python3.8/site-packages/google/logging\n",
      "# possible namespace for /Users/jon/anaconda3/envs/python38/lib/python3.8/site-packages/mpl_toolkits\n",
      "# possible namespace for /Users/jon/anaconda3/envs/python38/lib/python3.8/site-packages/google\n",
      "# destroy google\n",
      "# possible namespace for /Users/jon/anaconda3/envs/python38/lib/python3.8/site-packages/google\n",
      "# zipimport: found 7 names in '/Users/jon/anaconda3/envs/python38/lib/python3.8/site-packages/locket-0.2.1-py3.8.egg'\n",
      "import 'site' # <_frozen_importlib_external.SourceFileLoader object at 0x7fbbf0076730>\n",
      "Python 3.8.12 (default, Oct 12 2021, 06:23:56) \n",
      "[Clang 10.0.0 ] :: Anaconda, Inc. on darwin\n",
      "Type \"help\", \"copyright\", \"credits\" or \"license\" for more information.\n",
      "# extension module 'readline' loaded from '/Users/jon/anaconda3/envs/python38/lib/python3.8/lib-dynload/readline.cpython-38-darwin.so'\n",
      "# extension module 'readline' executed from '/Users/jon/anaconda3/envs/python38/lib/python3.8/lib-dynload/readline.cpython-38-darwin.so'\n",
      "import 'readline' # <_frozen_importlib_external.ExtensionFileLoader object at 0x7fbc001bb700>\n",
      "import 'atexit' # <class '_frozen_importlib.BuiltinImporter'>\n",
      "# /Users/jon/anaconda3/envs/python38/lib/python3.8/__pycache__/rlcompleter.cpython-38.pyc matches /Users/jon/anaconda3/envs/python38/lib/python3.8/rlcompleter.py\n",
      "# code object from '/Users/jon/anaconda3/envs/python38/lib/python3.8/__pycache__/rlcompleter.cpython-38.pyc'\n",
      "import 'rlcompleter' # <_frozen_importlib_external.SourceFileLoader object at 0x7fbc001bb8b0>\n",
      ">>> "
     ]
    }
   ],
   "source": [
    "!python -v\n"
   ]
  },
  {
   "cell_type": "code",
   "execution_count": 2,
   "id": "2b3ac8fd-ffd9-4320-b737-21c1c2977cff",
   "metadata": {},
   "outputs": [
    {
     "name": "stdout",
     "output_type": "stream",
     "text": [
      "3.8.12 (default, Oct 12 2021, 06:23:56) \n",
      "[Clang 10.0.0 ]\n"
     ]
    }
   ],
   "source": [
    "import sys\n",
    "print(sys.version)"
   ]
  },
  {
   "cell_type": "code",
   "execution_count": 3,
   "id": "9776e61e-7f5f-47b1-8ffa-ad2be1f0cbbb",
   "metadata": {},
   "outputs": [
    {
     "name": "stdout",
     "output_type": "stream",
     "text": [
      "3.8.12 (default, Oct 12 2021, 06:23:56) \n",
      "[Clang 10.0.0 ]\n"
     ]
    }
   ],
   "source": [
    "import sys\n",
    "print (sys.version)\n"
   ]
  },
  {
   "cell_type": "code",
   "execution_count": 11,
   "id": "56da1332-a9f6-4cc4-a71c-2a401f4f6de9",
   "metadata": {},
   "outputs": [
    {
     "name": "stdout",
     "output_type": "stream",
     "text": [
      "# packages in environment at /Users/jon/anaconda3/envs/python38:\n",
      "#\n",
      "# Name                    Version                   Build  Channel\n",
      "numpy                     1.21.2           py38h4b4dc7a_0  \n",
      "numpy-base                1.21.2           py38he0bd621_0  \n"
     ]
    }
   ],
   "source": [
    "!conda list NumPy "
   ]
  },
  {
   "cell_type": "code",
   "execution_count": 7,
   "id": "fd0ec070-1d7b-4437-ab6d-9c1ddbb20d12",
   "metadata": {},
   "outputs": [
    {
     "name": "stdout",
     "output_type": "stream",
     "text": [
      "# packages in environment at /Users/jon/anaconda3/envs/python38:\n",
      "#\n",
      "# Name                    Version                   Build  Channel\n",
      "scipy                     1.5.4                    pypi_0    pypi\n"
     ]
    }
   ],
   "source": [
    "!conda list SciPy"
   ]
  },
  {
   "cell_type": "code",
   "execution_count": 8,
   "id": "f2ba5d25-a01a-47e0-9b72-e9e667989499",
   "metadata": {},
   "outputs": [
    {
     "name": "stdout",
     "output_type": "stream",
     "text": [
      "# packages in environment at /Users/jon/anaconda3/envs/python38:\n",
      "#\n",
      "# Name                    Version                   Build  Channel\n",
      "scikit-learn              0.23.2                   pypi_0    pypi\n"
     ]
    }
   ],
   "source": [
    "!conda list scikit-learn"
   ]
  },
  {
   "cell_type": "code",
   "execution_count": 9,
   "id": "f531a257-b2f9-48b8-b6f7-79ff39239402",
   "metadata": {},
   "outputs": [
    {
     "name": "stdout",
     "output_type": "stream",
     "text": [
      "# packages in environment at /Users/jon/anaconda3/envs/python38:\n",
      "#\n",
      "# Name                    Version                   Build  Channel\n",
      "matplotlib                3.3.3                    pypi_0    pypi\n",
      "matplotlib-inline         0.1.2              pyhd3eb1b0_2  \n"
     ]
    }
   ],
   "source": [
    "!conda list matplotlib"
   ]
  },
  {
   "cell_type": "code",
   "execution_count": 10,
   "id": "6c0d9556-9e6f-4ec5-a73e-a16267d57111",
   "metadata": {},
   "outputs": [
    {
     "name": "stdout",
     "output_type": "stream",
     "text": [
      "# packages in environment at /Users/jon/anaconda3/envs/python38:\n",
      "#\n",
      "# Name                    Version                   Build  Channel\n",
      "pandas                    1.3.5                    pypi_0    pypi\n",
      "pandas-datareader         0.9.0                    pypi_0    pypi\n",
      "pandas-profiling          2.9.0                    pypi_0    pypi\n"
     ]
    }
   ],
   "source": [
    "!conda list pandas"
   ]
  },
  {
   "cell_type": "code",
   "execution_count": null,
   "id": "63ebffec-f700-4d25-98df-37b7d81d4e6d",
   "metadata": {},
   "outputs": [],
   "source": []
  }
 ],
 "metadata": {
  "kernelspec": {
   "display_name": "Python 3 (ipykernel)",
   "language": "python",
   "name": "python3"
  },
  "language_info": {
   "codemirror_mode": {
    "name": "ipython",
    "version": 3
   },
   "file_extension": ".py",
   "mimetype": "text/x-python",
   "name": "python",
   "nbconvert_exporter": "python",
   "pygments_lexer": "ipython3",
   "version": "3.8.12"
  }
 },
 "nbformat": 4,
 "nbformat_minor": 5
}
